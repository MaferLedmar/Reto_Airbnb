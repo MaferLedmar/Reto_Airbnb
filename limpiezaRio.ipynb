{
 "cells": [
  {
   "cell_type": "code",
   "execution_count": 1,
   "metadata": {},
   "outputs": [],
   "source": [
    "#Importamos Librerias\n",
    "import pandas as pd\n",
    "import statsmodels.formula.api as smf\n",
    "import matplotlib.pyplot as plt\n",
    "import numpy as np\n",
    "import seaborn as sns"
   ]
  },
  {
   "cell_type": "code",
   "execution_count": 2,
   "metadata": {},
   "outputs": [
    {
     "name": "stderr",
     "output_type": "stream",
     "text": [
      "/var/folders/s5/9tn200911wjfzyc3b8q58s900000gn/T/ipykernel_3396/2467423950.py:2: DtypeWarning: Columns (0,2,9,47,62,63,64,65,66) have mixed types. Specify dtype option on import or set low_memory=False.\n",
      "  df= pd.read_csv('RiodeJaneiro.csv')\n"
     ]
    }
   ],
   "source": [
    "#Cargamos archivo\n",
    "df= pd.read_csv('RiodeJaneiro.csv') \n",
    "\n",
    "#Seleccionamos solo las columnas que utilizaremos para este análisis y crearemos un nuevo dataframe\n",
    "df2 = df.loc[:, ['source','name', 'host_id','host_response_time','host_response_rate','host_acceptance_rate',\n",
    "'host_is_superhost','host_listings_count','host_total_listings_count','host_identity_verified', 'neighbourhood',\n",
    "'neighbourhood_cleansed','latitude','longitude','property_type','room_type','accommodates', 'bathrooms_text', 'bedrooms',\n",
    "'beds','Ame1', 'Ame2','Ame3','Ame4','Ame5', 'price', 'minimum_nights', 'maximum_nights', 'number_of_reviews', 'number_of_reviews_lastyear', \n",
    "'number_of_reviews_last30', 'review_scores_rating', 'review_scores_accuracy', 'review_scores_cleanliness', 'review_scores_checkin',\n",
    "'review_scores_communication', 'review_scores_location', 'review_scores_value', 'instant_bookable', 'calculated_host_listings_count', \n",
    "'calculated_host_listings_count_entire_homes', 'calculated_host_listings_count_private_rooms', 'calculated_host_listings_count_shared_rooms']]\n",
    "\n",
    "df3=df2.drop([15110], axis=0)"
   ]
  },
  {
   "cell_type": "code",
   "execution_count": 3,
   "metadata": {},
   "outputs": [
    {
     "data": {
      "text/plain": [
       "source                                           object\n",
       "name                                             object\n",
       "host_id                                          object\n",
       "host_response_time                               object\n",
       "host_response_rate                               object\n",
       "host_acceptance_rate                             object\n",
       "host_is_superhost                                object\n",
       "host_listings_count                             float64\n",
       "host_total_listings_count                       float64\n",
       "host_identity_verified                           object\n",
       "neighbourhood                                    object\n",
       "neighbourhood_cleansed                           object\n",
       "latitude                                        float64\n",
       "longitude                                       float64\n",
       "property_type                                    object\n",
       "room_type                                        object\n",
       "accommodates                                    float64\n",
       "bathrooms_text                                   object\n",
       "bedrooms                                        float64\n",
       "beds                                            float64\n",
       "Ame1                                             object\n",
       "Ame2                                             object\n",
       "Ame3                                             object\n",
       "Ame4                                             object\n",
       "Ame5                                             object\n",
       "price                                           float64\n",
       "minimum_nights                                  float64\n",
       "maximum_nights                                  float64\n",
       "number_of_reviews                               float64\n",
       "number_of_reviews_lastyear                      float64\n",
       "number_of_reviews_last30                        float64\n",
       "review_scores_rating                            float64\n",
       "review_scores_accuracy                          float64\n",
       "review_scores_cleanliness                       float64\n",
       "review_scores_checkin                           float64\n",
       "review_scores_communication                     float64\n",
       "review_scores_location                          float64\n",
       "review_scores_value                             float64\n",
       "instant_bookable                                 object\n",
       "calculated_host_listings_count                  float64\n",
       "calculated_host_listings_count_entire_homes     float64\n",
       "calculated_host_listings_count_private_rooms    float64\n",
       "calculated_host_listings_count_shared_rooms     float64\n",
       "dtype: object"
      ]
     },
     "execution_count": 3,
     "metadata": {},
     "output_type": "execute_result"
    }
   ],
   "source": [
    "\n",
    "#Convertimos algunas columnas de object a float64\n",
    "df3['review_scores_rating'] = df3['review_scores_rating'].astype(float, errors = 'raise')\n",
    "df3['review_scores_accuracy'] = df3['review_scores_accuracy'].astype(float, errors = 'raise')\n",
    "df3['review_scores_cleanliness'] = df3['review_scores_cleanliness'].astype(float, errors = 'raise')\n",
    "df3['review_scores_checkin'] = df3['review_scores_checkin'].astype(float, errors = 'raise')\n",
    "df3['review_scores_communication'] = df3['review_scores_communication'].astype(float, errors = 'raise')\n",
    "\n",
    "df3.dtypes"
   ]
  },
  {
   "cell_type": "code",
   "execution_count": 1,
   "metadata": {},
   "outputs": [
    {
     "ename": "NameError",
     "evalue": "name 'df3' is not defined",
     "output_type": "error",
     "traceback": [
      "\u001b[0;31m---------------------------------------------------------------------------\u001b[0m",
      "\u001b[0;31mNameError\u001b[0m                                 Traceback (most recent call last)",
      "\u001b[1;32m/Users/royrodriguez/Desktop/Reto_Airbnb/limpiezaRio.ipynb Celda 4\u001b[0m in \u001b[0;36m<cell line: 6>\u001b[0;34m()\u001b[0m\n\u001b[1;32m      <a href='vscode-notebook-cell:/Users/royrodriguez/Desktop/Reto_Airbnb/limpiezaRio.ipynb#W3sZmlsZQ%3D%3D?line=0'>1</a>\u001b[0m \u001b[39m### Cambiamos algunas variables de str a booleanos\u001b[39;00m\n\u001b[1;32m      <a href='vscode-notebook-cell:/Users/royrodriguez/Desktop/Reto_Airbnb/limpiezaRio.ipynb#W3sZmlsZQ%3D%3D?line=1'>2</a>\u001b[0m \u001b[39m#host_is_superhost\u001b[39;00m\n\u001b[1;32m      <a href='vscode-notebook-cell:/Users/royrodriguez/Desktop/Reto_Airbnb/limpiezaRio.ipynb#W3sZmlsZQ%3D%3D?line=2'>3</a>\u001b[0m \u001b[39m#host_identity_verified\u001b[39;00m\n\u001b[1;32m      <a href='vscode-notebook-cell:/Users/royrodriguez/Desktop/Reto_Airbnb/limpiezaRio.ipynb#W3sZmlsZQ%3D%3D?line=3'>4</a>\u001b[0m \u001b[39m#instant_bookable\u001b[39;00m\n\u001b[0;32m----> <a href='vscode-notebook-cell:/Users/royrodriguez/Desktop/Reto_Airbnb/limpiezaRio.ipynb#W3sZmlsZQ%3D%3D?line=5'>6</a>\u001b[0m df3[\u001b[39m'\u001b[39m\u001b[39mhost_is_superhost\u001b[39m\u001b[39m'\u001b[39m] \u001b[39m=\u001b[39m df3[\u001b[39m'\u001b[39m\u001b[39mhost_is_superhost\u001b[39m\u001b[39m'\u001b[39m]\u001b[39m.\u001b[39mreplace(\u001b[39m\"\u001b[39m\u001b[39mf\u001b[39m\u001b[39m\"\u001b[39m, \u001b[39m\"\u001b[39m\u001b[39m0\u001b[39m\u001b[39m\"\u001b[39m)\n\u001b[1;32m      <a href='vscode-notebook-cell:/Users/royrodriguez/Desktop/Reto_Airbnb/limpiezaRio.ipynb#W3sZmlsZQ%3D%3D?line=6'>7</a>\u001b[0m df3[\u001b[39m'\u001b[39m\u001b[39mhost_is_superhost\u001b[39m\u001b[39m'\u001b[39m] \u001b[39m=\u001b[39m df3[\u001b[39m'\u001b[39m\u001b[39mhost_is_superhost\u001b[39m\u001b[39m'\u001b[39m]\u001b[39m.\u001b[39mreplace(\u001b[39m\"\u001b[39m\u001b[39mt\u001b[39m\u001b[39m\"\u001b[39m, \u001b[39m\"\u001b[39m\u001b[39m1\u001b[39m\u001b[39m\"\u001b[39m)\n\u001b[1;32m      <a href='vscode-notebook-cell:/Users/royrodriguez/Desktop/Reto_Airbnb/limpiezaRio.ipynb#W3sZmlsZQ%3D%3D?line=8'>9</a>\u001b[0m df3[\u001b[39m'\u001b[39m\u001b[39mhost_identity_verified\u001b[39m\u001b[39m'\u001b[39m] \u001b[39m=\u001b[39m df3[\u001b[39m'\u001b[39m\u001b[39mhost_identity_verified\u001b[39m\u001b[39m'\u001b[39m]\u001b[39m.\u001b[39mreplace(\u001b[39m\"\u001b[39m\u001b[39mf\u001b[39m\u001b[39m\"\u001b[39m, \u001b[39m\"\u001b[39m\u001b[39m0\u001b[39m\u001b[39m\"\u001b[39m)\n",
      "\u001b[0;31mNameError\u001b[0m: name 'df3' is not defined"
     ]
    }
   ],
   "source": [
    "### Cambiamos algunas variables de str a booleanos\n",
    "#host_is_superhost\n",
    "#host_identity_verified\n",
    "#instant_bookable\n",
    "\n",
    "df3['host_is_superhost'] = df3['host_is_superhost'].replace(\"f\", \"0\")\n",
    "df3['host_is_superhost'] = df3['host_is_superhost'].replace(\"t\", \"1\")\n",
    "\n",
    "df3['host_identity_verified'] = df3['host_identity_verified'].replace(\"f\", \"0\")\n",
    "df3['host_identity_verified'] = df3['host_identity_verified'].replace(\"t\", \"1\")\n",
    "\n",
    "df3['instant_bookable'] = df3['instant_bookable'].replace(\"f\", \"0\")\n",
    "df3['instant_bookable'] = df3['instant_bookable'].replace(\"t\", \"1\")\n",
    "df3"
   ]
  },
  {
   "cell_type": "markdown",
   "metadata": {},
   "source": [
    "**Sustitución de Nulos**"
   ]
  },
  {
   "cell_type": "code",
   "execution_count": 5,
   "metadata": {},
   "outputs": [
    {
     "data": {
      "text/plain": [
       "source                                              5\n",
       "name                                               24\n",
       "host_id                                             6\n",
       "host_response_time                               3515\n",
       "host_response_rate                               3515\n",
       "host_acceptance_rate                             3535\n",
       "host_is_superhost                                  14\n",
       "host_listings_count                                12\n",
       "host_total_listings_count                          12\n",
       "host_identity_verified                             13\n",
       "neighbourhood                                   12478\n",
       "neighbourhood_cleansed                              7\n",
       "latitude                                            7\n",
       "longitude                                           7\n",
       "property_type                                       7\n",
       "room_type                                           7\n",
       "accommodates                                        7\n",
       "bathrooms_text                                     58\n",
       "bedrooms                                         1319\n",
       "beds                                              244\n",
       "Ame1                                               27\n",
       "Ame2                                              284\n",
       "Ame3                                              384\n",
       "Ame4                                              535\n",
       "Ame5                                              818\n",
       "price                                               8\n",
       "minimum_nights                                      8\n",
       "maximum_nights                                      8\n",
       "number_of_reviews                                   8\n",
       "number_of_reviews_lastyear                          8\n",
       "number_of_reviews_last30                            8\n",
       "review_scores_rating                             7030\n",
       "review_scores_accuracy                           7236\n",
       "review_scores_cleanliness                        7236\n",
       "review_scores_checkin                            7236\n",
       "review_scores_communication                      7236\n",
       "review_scores_location                           7237\n",
       "review_scores_value                              7236\n",
       "instant_bookable                                    8\n",
       "calculated_host_listings_count                      8\n",
       "calculated_host_listings_count_entire_homes         8\n",
       "calculated_host_listings_count_private_rooms        8\n",
       "calculated_host_listings_count_shared_rooms         8\n",
       "dtype: int64"
      ]
     },
     "execution_count": 5,
     "metadata": {},
     "output_type": "execute_result"
    }
   ],
   "source": [
    "#Detectamos valores nulos\n",
    "valores_nulos = df3.isnull().sum()\n",
    "valores_nulos\n",
    "#df3.isnull().sum().sum()"
   ]
  },
  {
   "cell_type": "code",
   "execution_count": 6,
   "metadata": {},
   "outputs": [],
   "source": [
    "#Primero sustituimos todos los valores nulos de lascolumnas de tipo \"float64\"\n",
    "\n",
    "#Sustituir valores nulos con la mediana\n",
    "\n",
    "median_host_listings_count=df3['host_listings_count'].median() \n",
    "df3['host_listings_count'].fillna(value=median_host_listings_count, inplace=True) \n",
    "median_host_total_listings_count=df3['host_total_listings_count'].median() \n",
    "df3['host_total_listings_count'].fillna(value=median_host_total_listings_count, inplace=True) \n",
    "median_accommodates=df3['accommodates'].median() \n",
    "df3['accommodates'].fillna(value=median_accommodates, inplace=True) \n",
    "median_bedrooms=df3['bedrooms'].median() \n",
    "df3['bedrooms'].fillna(value=median_bedrooms, inplace=True) \n",
    "median_beds=df3['beds'].median() \n",
    "df3['beds'].fillna(value=median_beds, inplace=True) \n",
    "median_minimum_nights=df3['minimum_nights'].median() \n",
    "df3['minimum_nights'].fillna(value=median_minimum_nights, inplace=True) \n",
    "median_maximum_nights=df3['maximum_nights'].median() \n",
    "df3['maximum_nights'].fillna(value=median_maximum_nights, inplace=True) \n",
    "median_number_of_reviews=df3['number_of_reviews'].median() \n",
    "df3['number_of_reviews'].fillna(value=median_number_of_reviews, inplace=True) \n",
    "median_number_of_reviews_lastyear=df3['number_of_reviews_lastyear'].median() \n",
    "df3['number_of_reviews_lastyear'].fillna(value=median_number_of_reviews_lastyear, inplace=True) \n",
    "median_number_of_reviews_last30=df3['number_of_reviews_last30'].median() \n",
    "df3['number_of_reviews_last30'].fillna(value=median_number_of_reviews_last30, inplace=True) \n",
    "\n",
    "#Sustituir valores nulos con la media\n",
    "\n",
    "mean_price=df3['price'].mean() \n",
    "df3['price'].fillna(value=mean_price,inplace=True) \n",
    "mean_review_scores_rating=df3['review_scores_rating'].mean() \n",
    "df3['review_scores_rating'].fillna(value=mean_review_scores_rating,inplace=True) \n",
    "mean_review_scores_accuracy=df3['review_scores_accuracy'].mean() \n",
    "df3['review_scores_accuracy'].fillna(value=mean_review_scores_accuracy,inplace=True) \n",
    "mean_review_scores_cleanliness=df3['review_scores_cleanliness'].mean() \n",
    "df3['review_scores_cleanliness'].fillna(value=mean_review_scores_cleanliness,inplace=True) \n",
    "mean_review_scores_checkin=df3['review_scores_checkin'].mean() \n",
    "df3['review_scores_checkin'].fillna(value=mean_review_scores_checkin,inplace=True) \n",
    "mean_review_scores_communication=df3['review_scores_communication'].mean() \n",
    "df3['review_scores_communication'].fillna(value=mean_review_scores_communication,inplace=True) \n",
    "mean_review_scores_location=df3['review_scores_location'].mean() \n",
    "df3['review_scores_location'].fillna(value=mean_review_scores_location,inplace=True) \n",
    "mean_review_scores_value=df3['review_scores_value'].mean() \n",
    "df3['review_scores_value'].fillna(value=mean_review_scores_value,inplace=True) \n",
    "mean_calculated_host_listings_count=df3['calculated_host_listings_count'].mean() \n",
    "df3['calculated_host_listings_count'].fillna(value=mean_calculated_host_listings_count,inplace=True) \n",
    "mean_calculated_host_listings_count_entire_homes=df3['calculated_host_listings_count_entire_homes'].mean() \n",
    "df3['calculated_host_listings_count_entire_homes'].fillna(value=mean_calculated_host_listings_count_entire_homes,inplace=True) \n",
    "mean_calculated_host_listings_count_private_rooms=df3['calculated_host_listings_count_private_rooms'].mean() \n",
    "df3['calculated_host_listings_count_private_rooms'].fillna(value=mean_calculated_host_listings_count_private_rooms,inplace=True) \n",
    "mean_calculated_host_listings_count_shared_rooms=df3['calculated_host_listings_count_shared_rooms'].mean() \n",
    "df3['calculated_host_listings_count_shared_rooms'].fillna(value=mean_calculated_host_listings_count_shared_rooms,inplace=True) \n"
   ]
  },
  {
   "cell_type": "code",
   "execution_count": 7,
   "metadata": {},
   "outputs": [],
   "source": [
    "#Sustituimos los valores nulos de las columnas de tipo \"Object\"\n",
    "\n",
    "df3[\"source\"] =df3[\"source\"].fillna(\"Desconocido\") \n",
    "df3[\"name\"] =df3[\"name\"].fillna(\"Desconocido\") \n",
    "df3[\"host_id\"] =df3[\"host_id\"].fillna(\"Desconocido\") \n",
    "df3[\"host_response_time\"] =df3[\"host_response_time\"].fillna(\"Desconocido\") \n",
    "df3[\"host_response_rate\"] =df3[\"host_response_rate\"].fillna(\"Desconocido\") \n",
    "df3[\"host_acceptance_rate\"] =df3[\"host_acceptance_rate\"].fillna(\"Desconocido\") \n",
    "df3[\"neighbourhood\"] =df3[\"neighbourhood\"].fillna(\"Desconocido\") \n",
    "df3[\"neighbourhood_cleansed\"] =df3[\"neighbourhood_cleansed\"].fillna(\"Desconocido\") \n",
    "df3[\"property_type\"] =df3[\"property_type\"].fillna(\"Desconocido\") \n",
    "df3[\"room_type\"] =df3[\"room_type\"].fillna(\"Desconocido\") \n",
    "df3[\"bathrooms_text\"] =df3[\"bathrooms_text\"].fillna(\"Desconocido\") \n",
    "df3[\"Ame1\"] =df3[\"Ame1\"].fillna(\"Desconocido\") \n",
    "df3[\"Ame2\"] =df3[\"Ame2\"].fillna(\"Desconocido\") \n",
    "df3[\"Ame3\"] =df3[\"Ame3\"].fillna(\"Desconocido\") \n",
    "df3[\"Ame4\"] =df3[\"Ame4\"].fillna(\"Desconocido\") \n",
    "df3[\"Ame5\"] =df3[\"Ame5\"].fillna(\"Desconocido\") \n"
   ]
  },
  {
   "cell_type": "code",
   "execution_count": 8,
   "metadata": {},
   "outputs": [
    {
     "data": {
      "text/plain": [
       "source                                           0\n",
       "name                                             0\n",
       "host_id                                          0\n",
       "host_response_time                               0\n",
       "host_response_rate                               0\n",
       "host_acceptance_rate                             0\n",
       "host_is_superhost                               14\n",
       "host_listings_count                              0\n",
       "host_total_listings_count                        0\n",
       "host_identity_verified                          13\n",
       "neighbourhood                                    0\n",
       "neighbourhood_cleansed                           0\n",
       "latitude                                         7\n",
       "longitude                                        7\n",
       "property_type                                    0\n",
       "room_type                                        0\n",
       "accommodates                                     0\n",
       "bathrooms_text                                   0\n",
       "bedrooms                                         0\n",
       "beds                                             0\n",
       "Ame1                                             0\n",
       "Ame2                                             0\n",
       "Ame3                                             0\n",
       "Ame4                                             0\n",
       "Ame5                                             0\n",
       "price                                            0\n",
       "minimum_nights                                   0\n",
       "maximum_nights                                   0\n",
       "number_of_reviews                                0\n",
       "number_of_reviews_lastyear                       0\n",
       "number_of_reviews_last30                         0\n",
       "review_scores_rating                             0\n",
       "review_scores_accuracy                           0\n",
       "review_scores_cleanliness                        0\n",
       "review_scores_checkin                            0\n",
       "review_scores_communication                      0\n",
       "review_scores_location                           0\n",
       "review_scores_value                              0\n",
       "instant_bookable                                 8\n",
       "calculated_host_listings_count                   0\n",
       "calculated_host_listings_count_entire_homes      0\n",
       "calculated_host_listings_count_private_rooms     0\n",
       "calculated_host_listings_count_shared_rooms      0\n",
       "dtype: int64"
      ]
     },
     "execution_count": 8,
     "metadata": {},
     "output_type": "execute_result"
    }
   ],
   "source": [
    "#Corroboramos que hemos eliminado los nulos de las columnas seleccionadas\n",
    "df3.isnull().sum()"
   ]
  },
  {
   "cell_type": "code",
   "execution_count": 10,
   "metadata": {},
   "outputs": [],
   "source": [
    "df4=df3.drop([15117], axis=0)\n",
    "df3.dtypes\n",
    "df3.to_csv(\"RioClean.csv\")"
   ]
  }
 ],
 "metadata": {
  "kernelspec": {
   "display_name": "Python 3.10.6 64-bit",
   "language": "python",
   "name": "python3"
  },
  "language_info": {
   "codemirror_mode": {
    "name": "ipython",
    "version": 3
   },
   "file_extension": ".py",
   "mimetype": "text/x-python",
   "name": "python",
   "nbconvert_exporter": "python",
   "pygments_lexer": "ipython3",
   "version": "3.10.6"
  },
  "orig_nbformat": 4,
  "vscode": {
   "interpreter": {
    "hash": "aee8b7b246df8f9039afb4144a1f6fd8d2ca17a180786b69acc140d282b71a49"
   }
  }
 },
 "nbformat": 4,
 "nbformat_minor": 2
}
