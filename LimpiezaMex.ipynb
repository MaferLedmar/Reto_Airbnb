{
 "cells": [
  {
   "cell_type": "code",
   "execution_count": 1,
   "metadata": {},
   "outputs": [],
   "source": [
    "#Importamos Librerias\n",
    "import pandas as pd\n",
    "import statsmodels.formula.api as smf\n",
    "import matplotlib.pyplot as plt\n",
    "import numpy as np\n",
    "import seaborn as sns"
   ]
  },
  {
   "cell_type": "code",
   "execution_count": null,
   "metadata": {},
   "outputs": [],
   "source": [
    "#Cargamos archivo\n",
    "df= pd.read_csv('RiodeJaneiro.csv') \n",
    "\n",
    "#Seleccionamos solo las columnas que utilizaremos para este análisis y crearemos un nuevo dataframe\n",
    "df2 = df.loc[:, ['source','name', 'host_id','host_response_time','host_response_rate','host_acceptance_rate',\n",
    "'host_is_superhost','host_listings_count','host_total_listings_count','host_identity_verified', 'neighbourhood',\n",
    "'neighbourhood_cleansed','latitude','longitude','property_type','room_type','accommodates', 'bathrooms_text', 'bedrooms',\n",
    "'beds','Ame1', 'Ame2','Ame3','Ame4','Ame5', 'price', 'minimum_nights', 'maximum_nights', 'number_of_reviews', 'number_of_reviews_lastyear', \n",
    "'number_of_reviews_last30', 'review_scores_rating', 'review_scores_accuracy', 'review_scores_cleanliness', 'review_scores_checkin',\n",
    "'review_scores_communication', 'review_scores_location', 'review_scores_value', 'instant_bookable', 'calculated_host_listings_count', \n",
    "'calculated_host_listings_count_entire_homes', 'calculated_host_listings_count_private_rooms', 'calculated_host_listings_count_shared_rooms']]\n",
    "\n",
    "df3=df2.drop([15110], axis=0)"
   ]
  }
 ],
 "metadata": {
  "kernelspec": {
   "display_name": "Python 3.10.6 64-bit",
   "language": "python",
   "name": "python3"
  },
  "language_info": {
   "codemirror_mode": {
    "name": "ipython",
    "version": 3
   },
   "file_extension": ".py",
   "mimetype": "text/x-python",
   "name": "python",
   "nbconvert_exporter": "python",
   "pygments_lexer": "ipython3",
   "version": "3.10.6"
  },
  "orig_nbformat": 4,
  "vscode": {
   "interpreter": {
    "hash": "aee8b7b246df8f9039afb4144a1f6fd8d2ca17a180786b69acc140d282b71a49"
   }
  }
 },
 "nbformat": 4,
 "nbformat_minor": 2
}
